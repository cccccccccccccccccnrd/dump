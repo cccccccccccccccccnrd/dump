{
 "cells": [
  {
   "cell_type": "code",
   "execution_count": 2,
   "metadata": {},
   "outputs": [
    {
     "data": {
      "text/plain": [
       "Promise { \u001b[36m<pending>\u001b[39m }"
      ]
     },
     "execution_count": 2,
     "metadata": {},
     "output_type": "execute_result"
    },
    {
     "name": "stdout",
     "output_type": "stream",
     "text": [
      "Yes. What's going on? This is a test. A test for speech to text. Raki, how do you feel? Weird. Oh no. Why do you feel weird? Altitude, coffee, Anxiety. How were the views today? Amazing. What did you see today? A goose. A goose?\n"
     ]
    }
   ],
   "source": [
    "import 'jsr:@std/dotenv/load'\n",
    "import { AssemblyAI } from 'npm:assemblyai'\n",
    "\n",
    "const client = new AssemblyAI({\n",
    "  apiKey: Deno.env.get('API_KEY')\n",
    "})\n",
    "\n",
    "const FILE_URL = 'https://assemblyaiusercontent.com/playground/q1YrnIGaRYk.m4a'\n",
    "\n",
    "const data = {\n",
    "  audio: FILE_URL,\n",
    "  speech_model: 'best',\n",
    "  language_detection: true\n",
    "}\n",
    "\n",
    "async function init () {\n",
    "  const transcript = await client.transcripts.transcribe(data)\n",
    "  console.log(transcript.text)\n",
    "}\n",
    "\n",
    "init()\n"
   ]
  }
 ],
 "metadata": {
  "kernelspec": {
   "display_name": "Deno",
   "language": "typescript",
   "name": "deno"
  },
  "language_info": {
   "codemirror_mode": "typescript",
   "file_extension": ".ts",
   "mimetype": "text/x.typescript",
   "name": "typescript",
   "nbconvert_exporter": "script",
   "pygments_lexer": "typescript",
   "version": "5.7.3"
  }
 },
 "nbformat": 4,
 "nbformat_minor": 2
}
