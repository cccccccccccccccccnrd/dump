{
 "cells": [
  {
   "cell_type": "code",
   "execution_count": 2,
   "metadata": {},
   "outputs": [],
   "source": [
    "function rn (ending: string) {\n",
    "  const files = Deno.readDirSync(`../data`).filter((f) => f.name.toLowerCase()).filter((f) => f.name.endsWith(ending))\n",
    "\n",
    "  for await (const f of files) {\n",
    "    await Deno.rename(`../data/${f.name}`, `../data/${f.name.match(/\\d+/g)[0]}${ending}`)\n",
    "  }\n",
    "}\n",
    "\n",
    "async function main () {\n",
    "  const ws = ['.mp4', '.png']\n",
    "\n",
    "  for await (const w of ws) {\n",
    "    rn(w)\n",
    "  }\n",
    "}\n",
    "\n",
    "main()\n"
   ]
  }
 ],
 "metadata": {
  "kernelspec": {
   "display_name": "Deno",
   "language": "typescript",
   "name": "deno"
  },
  "language_info": {
   "codemirror_mode": "typescript",
   "file_extension": ".ts",
   "mimetype": "text/x.typescript",
   "name": "typescript",
   "nbconvert_exporter": "script",
   "pygments_lexer": "typescript",
   "version": "5.7.3"
  }
 },
 "nbformat": 4,
 "nbformat_minor": 2
}
