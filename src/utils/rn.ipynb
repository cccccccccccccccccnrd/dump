{
 "cells": [
  {
   "cell_type": "code",
   "execution_count": 9,
   "metadata": {},
   "outputs": [
    {
     "name": "stdout",
     "output_type": "stream",
     "text": [
      ".mp4\n",
      "DJI_20250328121633_0642_D.mp4\n"
     ]
    },
    {
     "data": {
      "text/plain": [
       "Promise { \u001b[36m<pending>\u001b[39m }"
      ]
     },
     "execution_count": 9,
     "metadata": {},
     "output_type": "execute_result"
    },
    {
     "name": "stdout",
     "output_type": "stream",
     "text": [
      "DJI_20250328132749_0650_D.mp4\n",
      "DJI_20250329125419_0667_D.mp4\n",
      "DJI_20250328121805_0643_D.mp4\n",
      "DJI_20250328101548_0625_D.mp4\n",
      "DJI_20250328113100_0637_D.mp4\n",
      "DJI_20250328124405_0647_D.mp4\n",
      "DJI_20250329141312_0679_D.mp4\n",
      "DJI_20250329123432_0660_D.mp4\n"
     ]
    },
    {
     "name": "stdout",
     "output_type": "stream",
     "text": [
      ".png\n",
      "DJI_20250328121805_0643_D.mp4.png\n",
      "DJI_20250328132749_0650_D.mp4.png\n",
      "DJI_20250328101548_0625_D.mp4.png\n",
      "DJI_20250329125419_0667_D.mp4.png\n",
      "DJI_20250328113100_0637_D.mp4.png\n",
      "DJI_20250328124405_0647_D.mp4.png\n",
      "DJI_20250328121633_0642_D.mp4.png\n",
      "DJI_20250329141312_0679_D.mp4.png\n",
      "DJI_20250329123432_0660_D.mp4.png\n"
     ]
    }
   ],
   "source": [
    "async function rn (ending: string) {\n",
    "  const files = Deno.readDirSync(`../data`)\n",
    "    .filter((f) => f.name.toLowerCase())\n",
    "    .filter((f) => f.name.endsWith(ending))\n",
    "    .filter((f) => f.name.startsWith('DJI'))\n",
    "\n",
    "  for await (const f of files) {\n",
    "    console.log(f.name)\n",
    "    await Deno.rename(`../data/${f.name}`, `../data/${f.name.match(/\\d+/g)[0]}${ending}`)\n",
    "  }\n",
    "}\n",
    "\n",
    "async function main () {\n",
    "  const ws = ['.mp4', '.png']\n",
    "\n",
    "  for await (const w of ws) {\n",
    "    console.log(w)\n",
    "    await rn(w)\n",
    "  }\n",
    "}\n",
    "\n",
    "main()"
   ]
  }
 ],
 "metadata": {
  "kernelspec": {
   "display_name": "Deno",
   "language": "typescript",
   "name": "deno"
  },
  "language_info": {
   "codemirror_mode": "typescript",
   "file_extension": ".ts",
   "mimetype": "text/x.typescript",
   "name": "typescript",
   "nbconvert_exporter": "script",
   "pygments_lexer": "typescript",
   "version": "5.7.3"
  }
 },
 "nbformat": 4,
 "nbformat_minor": 2
}
